{
 "cells": [
  {
   "cell_type": "code",
   "execution_count": 5,
   "id": "476d8028-e3a1-4649-862b-eccbb51993ee",
   "metadata": {},
   "outputs": [
    {
     "name": "stdout",
     "output_type": "stream",
     "text": [
      "Enter the number 20\n",
      "Enter the sign +\n",
      "Enter the num 40\n"
     ]
    },
    {
     "name": "stdout",
     "output_type": "stream",
     "text": [
      "Your result is 60\n"
     ]
    }
   ],
   "source": [
    "number1 =input(\"Enter the number\")\n",
    "number1 = int(number1)\n",
    "sign = input(\"Enter the sign\")\n",
    "number2 =input(\"Enter the num\")\n",
    "num2 = int(number2)\n",
    "if sign == \"+\":\n",
    "    print(\"Your result is \" + str(num1 + num2))\n",
    "elif sign == \"-\":\n",
    "    print(\"Your result is\" + str(num1 - num2))\n",
    "elif sign == \"*\":\n",
    "    print(\"Your result is\" + str(num1 * num2))\n",
    "elif sign == \"/\":\n",
    "    print(\"Your result is\" + str(numb1 /num2))\n",
    "else:\n",
    "    print(\"please enter +, -, * or /\")"
   ]
  },
  {
   "cell_type": "code",
   "execution_count": 13,
   "id": "eb6ff9d2-75f2-4316-a225-a846f9863e99",
   "metadata": {},
   "outputs": [
    {
     "name": "stdout",
     "output_type": "stream",
     "text": [
      "Enter the number 30\n",
      "Enter the sign /\n",
      "Enter the number 3\n"
     ]
    },
    {
     "name": "stdout",
     "output_type": "stream",
     "text": [
      "Your result is 10.0\n"
     ]
    }
   ],
   "source": [
    "#making a calculator\n",
    "number1 = input(\"Enter the number\")\n",
    "number1 = int(number1)\n",
    "sign = input (\"Enter the sign\")\n",
    "number2 = input(\"Enter the number\")\n",
    "number2 = int(number2)\n",
    "if sign == \"+\":\n",
    "    print(\"Your result is\" + str(number1 + number2))\n",
    "elif sign == \"-\":\n",
    "    print(\"Your result is\" + str(number1 - number2))\n",
    "elif sign == \"*\":\n",
    "    print(\"Your result is\" + str(number1 * number2))\n",
    "elif sign == \"/\":\n",
    "    print(\"Your result is \" + str(number1 / number2))\n",
    "else:\n",
    "    print(\"please enter +,-,*,/\")\n"
   ]
  },
  {
   "cell_type": "code",
   "execution_count": 17,
   "id": "219537ce-bad8-42e5-8ef7-7175604d47ca",
   "metadata": {},
   "outputs": [],
   "source": [
    "#how to use functions\n",
    "def function2(x):\n",
    "    return 2*3"
   ]
  },
  {
   "cell_type": "code",
   "execution_count": 18,
   "id": "babffe46-4cf8-488d-a6dc-42697f6d828a",
   "metadata": {},
   "outputs": [],
   "source": [
    "a = function2(3)"
   ]
  },
  {
   "cell_type": "code",
   "execution_count": 19,
   "id": "7ba73ef5-3b36-4dd7-ad91-6d1f6d2b175a",
   "metadata": {},
   "outputs": [
    {
     "name": "stdout",
     "output_type": "stream",
     "text": [
      "6\n"
     ]
    }
   ],
   "source": [
    "print(a)"
   ]
  },
  {
   "cell_type": "code",
   "execution_count": null,
   "id": "5a3477c4-52ae-45f8-b143-18b8a631c71a",
   "metadata": {},
   "outputs": [],
   "source": []
  }
 ],
 "metadata": {
  "kernelspec": {
   "display_name": "Python [conda env:base] *",
   "language": "python",
   "name": "conda-base-py"
  },
  "language_info": {
   "codemirror_mode": {
    "name": "ipython",
    "version": 3
   },
   "file_extension": ".py",
   "mimetype": "text/x-python",
   "name": "python",
   "nbconvert_exporter": "python",
   "pygments_lexer": "ipython3",
   "version": "3.13.5"
  }
 },
 "nbformat": 4,
 "nbformat_minor": 5
}
